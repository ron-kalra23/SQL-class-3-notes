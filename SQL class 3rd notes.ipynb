{
 "cells": [
  {
   "cell_type": "code",
   "execution_count": 2,
   "id": "2a16a5fe",
   "metadata": {},
   "outputs": [],
   "source": [
    "import sqlite3\n",
    "db = sqlite3.connect(\"student_database.db\")"
   ]
  },
  {
   "cell_type": "code",
   "execution_count": 3,
   "id": "05bf8d79",
   "metadata": {},
   "outputs": [],
   "source": [
    "cursor = db.cursor()"
   ]
  },
  {
   "cell_type": "code",
   "execution_count": 10,
   "id": "a42af145",
   "metadata": {},
   "outputs": [
    {
     "data": {
      "text/plain": [
       "<sqlite3.Cursor at 0x1340ec309d0>"
      ]
     },
     "execution_count": 10,
     "metadata": {},
     "output_type": "execute_result"
    }
   ],
   "source": [
    "cursor.execute(\"CREATE TABLE student_data5(phone_no INT PRIMARY KEY , email_id TEXT, course_name TEXT , fee_paid TEXT)\")"
   ]
  },
  {
   "cell_type": "code",
   "execution_count": 11,
   "id": "1fab3c75",
   "metadata": {},
   "outputs": [
    {
     "name": "stdout",
     "output_type": "stream",
     "text": [
      "20 records inserted\n"
     ]
    }
   ],
   "source": [
    "with open('DT_Students.csv', 'r') as file:\n",
    "    no_records = 0 \n",
    "    for row in file:\n",
    "        cursor.execute(\"INSERT INTO Student_data5 VALUES (?,?,?,?)\",row.split(','))\n",
    "        db.commit()\n",
    "        no_records +=1\n",
    "print(no_records , 'records inserted')        "
   ]
  },
  {
   "cell_type": "code",
   "execution_count": 12,
   "id": "67535d1c",
   "metadata": {},
   "outputs": [
    {
     "name": "stdout",
     "output_type": "stream",
     "text": [
      "20 records inserted\n"
     ]
    }
   ],
   "source": [
    "cursor.execute(\"CREATE TABLE stud_det(phone_no INT primary key , student_name TEXT , enrolled_date TEXT , marks INT)\")\n",
    "with open('Students_details.csv','r') as file:\n",
    "    no_records = 0\n",
    "    for row in file:\n",
    "        cursor.execute(\"INSERT INTO stud_det VALUES(?,?,?,?)\",row.split(','))\n",
    "        db.commit()\n",
    "        no_records +=1\n",
    "print(no_records,'records inserted')        "
   ]
  },
  {
   "cell_type": "markdown",
   "id": "317bfcaf",
   "metadata": {},
   "source": [
    "# join :\n",
    "different type of SQLs join.if we want to join different table then join is used\n",
    "(inner) join : returns records that have matching values in both the tables.\n",
    "left(outer) join : return all the records from the left table and the matched records from the right table\n",
    "right(outer) join: return all the records from the right table and the matched records from the left table\n",
    "full(outer) join: return all the joins when there is a match in either left or right table"
   ]
  },
  {
   "cell_type": "code",
   "execution_count": 13,
   "id": "3b91eb9c",
   "metadata": {},
   "outputs": [
    {
     "name": "stdout",
     "output_type": "stream",
     "text": [
      "(9988776604, 'student4@gmail.com', 'Digital Marketing', '38000\\n')\n",
      "(9988776605, 'student5@gmail.com', 'Data Science', '133000\\n')\n",
      "(9988776606, 'student6@gmail.com', 'Data Science', '34000\\n')\n",
      "(9988776607, 'student7@gmail.com', 'Data Science', '33000\\n')\n",
      "(9988776608, 'student8@gmail.com', 'Data Science', '129000\\n')\n",
      "(9988776609, 'student9@gmail.com', 'Data Science', '40000\\n')\n",
      "(9988776610, 'student10@gmail.com', 'Data Analytics', '32500\\n')\n",
      "(9988776611, 'student11@gmail.com', 'Data Science', '41500\\n')\n",
      "(9988776612, 'student12@gmail.com', 'Digital Marketing', '31000\\n')\n",
      "(9988776613, 'student13@gmail.com', 'Digital Marketing', '23000\\n')\n",
      "(9988776614, 'student14@gmail.com', 'Data Science', '24000\\n')\n",
      "(9988776615, 'student15@gmail.com', 'Data Science', '23000\\n')\n",
      "(9988776616, 'student16@gmail.com', 'Data Science', '122500\\n')\n",
      "(9988776617, 'student17@gmail.com', 'Data Science', '29000\\n')\n",
      "(9988776618, 'student18@gmail.com', 'Data Science', '140000\\n')\n",
      "(9988776619, 'student19@gmail.com', 'Data Analytics', '32500\\n')\n",
      "(9988776620, 'student20@gmail.com', 'Inv Banking', '41500\\n')\n",
      "(9988776621, 'student21@gmail.com', 'Data Science', '131000\\n')\n",
      "(9988776622, 'student22@gmail.com', 'Data Science', '23000\\n')\n",
      "(9988776623, 'student23@gmail.com', 'Data Science', '24000\\n')\n"
     ]
    }
   ],
   "source": [
    "result = cursor.execute(\"SELECT * from student_data5\")\n",
    "for row in result:\n",
    "    print(row)"
   ]
  },
  {
   "cell_type": "code",
   "execution_count": 14,
   "id": "1af88f54",
   "metadata": {},
   "outputs": [
    {
     "name": "stdout",
     "output_type": "stream",
     "text": [
      "(9988776604, 'Salah', '03-10-2020', 85)\n",
      "(9988776605, 'Heung-Son', '21-06-2020', 39)\n",
      "(9988776606, 'Ronaldo', '08-05-2020', 86)\n",
      "(9988776607, 'Kane', '11-05-2022', 57)\n",
      "(9988776608, 'Mane', '17-05-2022', 52)\n",
      "(6609998877, 'Vardy', '17-12-2020', 54)\n",
      "(6609998878, 'Jota', '06-11-2021', 45)\n",
      "(6609998879, 'Bruyne', '26-11-2020', 49)\n",
      "(6609998880, 'Zaha', '05-12-2020', 88)\n",
      "(6609998881, 'Sterling', '29-10-2020', 61)\n",
      "(9988776614, 'Toney', '31-03-2022', 71)\n",
      "(9988776615, 'Maddison', '10-03-2020', 44)\n",
      "(1687799866, 'Bowen', '14-02-2021', 96)\n",
      "(1687799867, 'Saka', '19-12-2022', 92)\n",
      "(1687799868, 'Watkins', '30-01-2021', 49)\n",
      "(1687799869, 'Mount', '16-09-2022', 48)\n",
      "(1687799870, 'Raphael', '15-05-2021', 50)\n",
      "(1687799871, 'Mahrez', '30-10-2021', 72)\n",
      "(9988776622, 'Pukki', '19-02-2021', 93)\n",
      "(9988776623, 'Fernandes', '01-03-2022', 94)\n"
     ]
    }
   ],
   "source": [
    "result = cursor.execute(\"SELECT * from stud_det\")\n",
    "for row in result:\n",
    "    print(row)"
   ]
  },
  {
   "cell_type": "markdown",
   "id": "f9c4f99b",
   "metadata": {},
   "source": [
    "# inner join:"
   ]
  },
  {
   "cell_type": "code",
   "execution_count": 16,
   "id": "a8302ccb",
   "metadata": {},
   "outputs": [
    {
     "name": "stdout",
     "output_type": "stream",
     "text": [
      "(9988776604, '03-10-2020', 85, 'Salah')\n",
      "(9988776605, '21-06-2020', 39, 'Heung-Son')\n",
      "(9988776606, '08-05-2020', 86, 'Ronaldo')\n",
      "(9988776607, '11-05-2022', 57, 'Kane')\n",
      "(9988776608, '17-05-2022', 52, 'Mane')\n",
      "(9988776614, '31-03-2022', 71, 'Toney')\n",
      "(9988776615, '10-03-2020', 44, 'Maddison')\n",
      "(9988776622, '19-02-2021', 93, 'Pukki')\n",
      "(9988776623, '01-03-2022', 94, 'Fernandes')\n"
     ]
    }
   ],
   "source": [
    "sql = \"select student_data5.phone_no ,stud_det.enrolled_date,stud_det.marks , stud_det.student_name FROM stud_det INNER join student_data5 on student_data5.phone_no = stud_det.phone_no\"\n",
    "result = cursor.execute(sql)                                                                        #from 1st table inner join 2nd table on behalf of phone_no\n",
    "for row in result:                                                                                                      #whichever phone_no are same only those records are printed\n",
    "    print(row)                    #we will join on the basis of primary key which are unique eg here phone_no"
   ]
  },
  {
   "cell_type": "markdown",
   "id": "59c6ad0e",
   "metadata": {},
   "source": [
    "# left join:"
   ]
  },
  {
   "cell_type": "code",
   "execution_count": 17,
   "id": "a3f442b8",
   "metadata": {},
   "outputs": [
    {
     "name": "stdout",
     "output_type": "stream",
     "text": [
      "(9988776604, '03-10-2020', 85, 'Salah')\n",
      "(9988776605, '21-06-2020', 39, 'Heung-Son')\n",
      "(9988776606, '08-05-2020', 86, 'Ronaldo')\n",
      "(9988776607, '11-05-2022', 57, 'Kane')\n",
      "(9988776608, '17-05-2022', 52, 'Mane')\n",
      "(None, '17-12-2020', 54, 'Vardy')\n",
      "(None, '06-11-2021', 45, 'Jota')\n",
      "(None, '26-11-2020', 49, 'Bruyne')\n",
      "(None, '05-12-2020', 88, 'Zaha')\n",
      "(None, '29-10-2020', 61, 'Sterling')\n",
      "(9988776614, '31-03-2022', 71, 'Toney')\n",
      "(9988776615, '10-03-2020', 44, 'Maddison')\n",
      "(None, '14-02-2021', 96, 'Bowen')\n",
      "(None, '19-12-2022', 92, 'Saka')\n",
      "(None, '30-01-2021', 49, 'Watkins')\n",
      "(None, '16-09-2022', 48, 'Mount')\n",
      "(None, '15-05-2021', 50, 'Raphael')\n",
      "(None, '30-10-2021', 72, 'Mahrez')\n",
      "(9988776622, '19-02-2021', 93, 'Pukki')\n",
      "(9988776623, '01-03-2022', 94, 'Fernandes')\n"
     ]
    }
   ],
   "source": [
    "sql = \"select student_data5.phone_no ,stud_det.enrolled_date,stud_det.marks , stud_det.student_name FROM stud_det left join student_data5 on student_data5.phone_no = stud_det.phone_no\"\n",
    "result = cursor.execute(sql)                                                                        #from 1st table inner join 2nd table on behalf of phone_no\n",
    "for row in result:                                                                                                      #whichever phone_no are same only those records are printed\n",
    "    print(row)           "
   ]
  },
  {
   "cell_type": "raw",
   "id": "10b5eea7",
   "metadata": {},
   "source": [
    "right join and outer join not supported in sqlite3"
   ]
  },
  {
   "cell_type": "raw",
   "id": "515b7161",
   "metadata": {},
   "source": [
    "# python and sql(how to use together)"
   ]
  },
  {
   "cell_type": "code",
   "execution_count": null,
   "id": "2b1c3b11",
   "metadata": {},
   "outputs": [],
   "source": [
    "# while True:\n",
    "    try:\n",
    "        ph_num = int(input(\"your mobile no\"))\n",
    "        if len(str(ph_num)) != 10:\n",
    "            print(\"phone no is incorrect\")\n",
    "            continue\n",
    "        else:\n",
    "            result = cursor.execute(\"select * from student_data5\")\n",
    "            for detail in result:\n",
    "                if detail[0] == ph_num:               #here detail[0] shows 0 index column that is phone no likiewise 1 is name or etc\n",
    "                    print('Name =' , detail[1])\n",
    "                    print('dob = ' , detail[2])\n",
    "                    print('mark =' , detail[3])\n",
    "                    break\n",
    "            else:\n",
    "                print('phone no not found in data base')\n",
    "                continue\n",
    "            break\n",
    "    except:\n",
    "        print('phone no should be numeric')\n",
    "        continue"
   ]
  },
  {
   "cell_type": "code",
   "execution_count": null,
   "id": "974e0b48",
   "metadata": {},
   "outputs": [],
   "source": [
    "#drop any table \n",
    "#sql = \"DROP TABLE student_data\"\n",
    "#cursor.execute(sql)"
   ]
  },
  {
   "cell_type": "code",
   "execution_count": null,
   "id": "5e0bf93c",
   "metadata": {},
   "outputs": [],
   "source": [
    "sql = 'DROP TABLE stud_det'\n",
    "cursor.execute(sql)"
   ]
  },
  {
   "cell_type": "code",
   "execution_count": null,
   "id": "5863aefc",
   "metadata": {},
   "outputs": [],
   "source": []
  }
 ],
 "metadata": {
  "kernelspec": {
   "display_name": "Python 3 (ipykernel)",
   "language": "python",
   "name": "python3"
  },
  "language_info": {
   "codemirror_mode": {
    "name": "ipython",
    "version": 3
   },
   "file_extension": ".py",
   "mimetype": "text/x-python",
   "name": "python",
   "nbconvert_exporter": "python",
   "pygments_lexer": "ipython3",
   "version": "3.9.13"
  }
 },
 "nbformat": 4,
 "nbformat_minor": 5
}
